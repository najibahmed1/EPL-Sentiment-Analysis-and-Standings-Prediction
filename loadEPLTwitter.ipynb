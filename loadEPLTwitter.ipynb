{
 "cells": [
  {
   "cell_type": "code",
   "execution_count": 1,
   "metadata": {},
   "outputs": [
    {
     "name": "stderr",
     "output_type": "stream",
     "text": [
      "c:\\Users\\yichy\\AppData\\Local\\Programs\\Python\\Python312\\Lib\\site-packages\\tqdm\\auto.py:21: TqdmWarning: IProgress not found. Please update jupyter and ipywidgets. See https://ipywidgets.readthedocs.io/en/stable/user_install.html\n",
      "  from .autonotebook import tqdm as notebook_tqdm\n"
     ]
    }
   ],
   "source": [
    "import kagglehub\n",
    "import pandas as pd\n",
    "import os"
   ]
  },
  {
   "cell_type": "code",
   "execution_count": 2,
   "metadata": {},
   "outputs": [
    {
     "name": "stdout",
     "output_type": "stream",
     "text": [
      "Warning: Looks like you're using an outdated `kagglehub` version, please consider updating (latest version: 0.3.4)\n",
      "Path to dataset files: C:\\Users\\yichy\\.cache\\kagglehub\\datasets\\wjia26\\epl-teams-twitter-sentiment-dataset\\versions\\2\n",
      "Directory: C:\\Users\\yichy\\.cache\\kagglehub\\datasets\\wjia26\\epl-teams-twitter-sentiment-dataset\\versions\\2\n",
      "File: C:\\Users\\yichy\\.cache\\kagglehub\\datasets\\wjia26\\epl-teams-twitter-sentiment-dataset\\versions\\2\\2020-07-09 till 2020-09-19.csv\n",
      "File: C:\\Users\\yichy\\.cache\\kagglehub\\datasets\\wjia26\\epl-teams-twitter-sentiment-dataset\\versions\\2\\2020-09-20 till 2020-10-13.csv\n"
     ]
    }
   ],
   "source": [
    "download_path = \"./Data\"\n",
    "path = kagglehub.dataset_download(\"wjia26/epl-teams-twitter-sentiment-dataset\")\n",
    "\n",
    "print(\"Path to dataset files:\", path)\n",
    "\n",
    "for root, dirs, files in os.walk(path):\n",
    "    print(\"Directory:\", root)\n",
    "    for file in files:\n",
    "        print(\"File:\", os.path.join(root, file))"
   ]
  },
  {
   "cell_type": "code",
   "execution_count": 3,
   "metadata": {},
   "outputs": [
    {
     "name": "stdout",
     "output_type": "stream",
     "text": [
      "            created_at  file_name  followers  friends    group_name  \\\n",
      "0  2020-07-09 11:34:08  Liverpool     697325      594  Liverpool FC   \n",
      "1  2020-07-09 11:33:52  Liverpool       2348     2907  Liverpool FC   \n",
      "2  2020-07-09 11:33:52  Liverpool        465      177  Liverpool FC   \n",
      "3  2020-07-09 11:33:50  Liverpool        334     1524  Liverpool FC   \n",
      "4  2020-07-09 11:33:31  Liverpool        760     1264  Liverpool FC   \n",
      "\n",
      "              location  retweet_count     screenname  \\\n",
      "0            Liverpool              0     LivEchoLFC   \n",
      "1               Huyton             65       ged11lfc   \n",
      "2         Accra, Ghana             32   calvin_winzy   \n",
      "3                  NaN              0          Rurs1   \n",
      "4  Kildare, Ireland 🇮🇪            176  LSHighVoltage   \n",
      "\n",
      "                    search_query  \\\n",
      "0  #liverpoolfc OR #YNWA OR #LFC   \n",
      "1  #liverpoolfc OR #YNWA OR #LFC   \n",
      "2  #liverpoolfc OR #YNWA OR #LFC   \n",
      "3  #liverpoolfc OR #YNWA OR #LFC   \n",
      "4  #liverpoolfc OR #YNWA OR #LFC   \n",
      "\n",
      "                                                text           twitter_id  \\\n",
      "0  This is a strange claim  #LFC  https://t.co/U1...  1281189890936504320   \n",
      "1  RT @TheKopiteOFF: 😱| #LFC have won 30 of their...  1281189827468279808   \n",
      "2  RT @SkySportsPL: 🔴 - #LFC secure first away wi...  1281189824465174528   \n",
      "3  Outrageous... Poor auld Martin Tyler has to ju...  1281189816890245121   \n",
      "4  RT @TheRedmenTV: ✅ Won the league ✅ Fastest te...  1281189739618611200   \n",
      "\n",
      "             username  polarity partition_0 partition_1  \n",
      "0   Liverpool FC News   -0.2023         EPL   Liverpool  \n",
      "1           Ged Smith    0.8316         EPL   Liverpool  \n",
      "2            DADA BA♐    0.8793         EPL   Liverpool  \n",
      "3        Ruairi Nolan   -0.6808         EPL   Liverpool  \n",
      "4  🇮🇪 David D'Arcy 🇮🇪    0.8176         EPL   Liverpool  \n",
      "            created_at      file_name  followers  friends         group_name  \\\n",
      "0  2020-09-23 18:39:34  CrystalPalace         66      495  Crystal Palace FC   \n",
      "1  2020-09-23 18:39:18  CrystalPalace          0        0  Crystal Palace FC   \n",
      "2  2020-09-23 18:28:15  CrystalPalace       4292     3437  Crystal Palace FC   \n",
      "3  2020-09-23 18:28:15  CrystalPalace       4292     3437  Crystal Palace FC   \n",
      "4  2020-09-23 18:27:39  CrystalPalace          0        0  Crystal Palace FC   \n",
      "\n",
      "  location  retweet_count       screenname             search_query  \\\n",
      "0      NaN              0  tw_footballtalk  #CrystalPalace OR #CPFC   \n",
      "1      NaN              0  crystalpalaced1  #CrystalPalace OR #CPFC   \n",
      "2   London              0  palaceupdates4u  #CrystalPalace OR #CPFC   \n",
      "3   London              0  palaceupdates4u  #CrystalPalace OR #CPFC   \n",
      "4      NaN              0  crystalpalaced1  #CrystalPalace OR #CPFC   \n",
      "\n",
      "                                                text           twitter_id  \\\n",
      "0  Onto Week 2 of Premier League Stars of the Wee...  1308838436233711616   \n",
      "1  Our palace team will put our hearts out for ou...  1308838367254269954   \n",
      "2  Chelsea v Palace kick-off time changed and TV ...  1308835588229996545   \n",
      "3  Academy redevelopment update: Exclusive footag...  1308835585902116867   \n",
      "4  @ChelseaFC I still have no entire clue why us ...  1308835436652105728   \n",
      "\n",
      "              username  polarity partition_0    partition_1  \n",
      "0                   TW    0.0000         EPL  CrystalPalace  \n",
      "1     crystalpalacedan    0.1531         EPL  CrystalPalace  \n",
      "2  Crystal Palace News    0.0000         EPL  CrystalPalace  \n",
      "3  Crystal Palace News    0.1280         EPL  CrystalPalace  \n",
      "4     crystalpalacedan   -0.1027         EPL  CrystalPalace  \n",
      "            created_at  file_name  followers  friends    group_name  \\\n",
      "0  2020-07-09 11:34:08  Liverpool     697325      594  Liverpool FC   \n",
      "1  2020-07-09 11:33:52  Liverpool       2348     2907  Liverpool FC   \n",
      "2  2020-07-09 11:33:52  Liverpool        465      177  Liverpool FC   \n",
      "3  2020-07-09 11:33:50  Liverpool        334     1524  Liverpool FC   \n",
      "4  2020-07-09 11:33:31  Liverpool        760     1264  Liverpool FC   \n",
      "\n",
      "              location  retweet_count     screenname  \\\n",
      "0            Liverpool              0     LivEchoLFC   \n",
      "1               Huyton             65       ged11lfc   \n",
      "2         Accra, Ghana             32   calvin_winzy   \n",
      "3                  NaN              0          Rurs1   \n",
      "4  Kildare, Ireland 🇮🇪            176  LSHighVoltage   \n",
      "\n",
      "                    search_query  \\\n",
      "0  #liverpoolfc OR #YNWA OR #LFC   \n",
      "1  #liverpoolfc OR #YNWA OR #LFC   \n",
      "2  #liverpoolfc OR #YNWA OR #LFC   \n",
      "3  #liverpoolfc OR #YNWA OR #LFC   \n",
      "4  #liverpoolfc OR #YNWA OR #LFC   \n",
      "\n",
      "                                                text           twitter_id  \\\n",
      "0  This is a strange claim  #LFC  https://t.co/U1...  1281189890936504320   \n",
      "1  RT @TheKopiteOFF: 😱| #LFC have won 30 of their...  1281189827468279808   \n",
      "2  RT @SkySportsPL: 🔴 - #LFC secure first away wi...  1281189824465174528   \n",
      "3  Outrageous... Poor auld Martin Tyler has to ju...  1281189816890245121   \n",
      "4  RT @TheRedmenTV: ✅ Won the league ✅ Fastest te...  1281189739618611200   \n",
      "\n",
      "             username  polarity partition_0 partition_1  \n",
      "0   Liverpool FC News   -0.2023         EPL   Liverpool  \n",
      "1           Ged Smith    0.8316         EPL   Liverpool  \n",
      "2            DADA BA♐    0.8793         EPL   Liverpool  \n",
      "3        Ruairi Nolan   -0.6808         EPL   Liverpool  \n",
      "4  🇮🇪 David D'Arcy 🇮🇪    0.8176         EPL   Liverpool  \n"
     ]
    }
   ],
   "source": [
    "file_1 = pd.read_csv(path + \"/2020-07-09 till 2020-09-19.csv\")\n",
    "file_2 = pd.read_csv(path + \"/2020-09-20 till 2020-10-13.csv\")\n",
    "\n",
    "print(file_1.head())\n",
    "print(file_2.head())\n",
    "\n",
    "merged_file = pd.concat([file_1, file_2], ignore_index=True)\n",
    "print(merged_file.head())"
   ]
  },
  {
   "cell_type": "code",
   "execution_count": 4,
   "metadata": {},
   "outputs": [
    {
     "name": "stdout",
     "output_type": "stream",
     "text": [
      "{'AFC Bournemouth', 'Burnley FC', 'Crystal Palace FC', 'Leicester City FC', 'Chelsea FC', 'Southampton FC', 'Arsenal FC', 'Everton FC', 'Liverpool FC', 'Tottenham Hotspur FC', 'Manchester United FC', 'Manchester City FC'}\n"
     ]
    }
   ],
   "source": [
    "teams_list = merged_file[\"group_name\"].to_numpy()\n",
    "print(set(teams_list))"
   ]
  }
 ],
 "metadata": {
  "kernelspec": {
   "display_name": "Python 3",
   "language": "python",
   "name": "python3"
  },
  "language_info": {
   "codemirror_mode": {
    "name": "ipython",
    "version": 3
   },
   "file_extension": ".py",
   "mimetype": "text/x-python",
   "name": "python",
   "nbconvert_exporter": "python",
   "pygments_lexer": "ipython3",
   "version": "3.12.3"
  }
 },
 "nbformat": 4,
 "nbformat_minor": 2
}
