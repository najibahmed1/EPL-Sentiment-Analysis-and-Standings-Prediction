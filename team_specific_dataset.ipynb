{
 "cells": [
  {
   "cell_type": "code",
   "execution_count": null,
   "metadata": {},
   "outputs": [
    {
     "name": "stdout",
     "output_type": "stream",
     "text": [
      "Saved group 'AFC Bournemouth' to tean_specific_files/AFC Bournemouth.xlsx\n",
      "Saved group 'Arsenal FC' to tean_specific_files/Arsenal FC.xlsx\n",
      "Saved group 'Burnley FC' to tean_specific_files/Burnley FC.xlsx\n",
      "Saved group 'Chelsea FC' to tean_specific_files/Chelsea FC.xlsx\n",
      "Saved group 'Crystal Palace FC' to tean_specific_files/Crystal Palace FC.xlsx\n",
      "Saved group 'Everton FC' to tean_specific_files/Everton FC.xlsx\n",
      "Saved group 'Leicester City FC' to tean_specific_files/Leicester City FC.xlsx\n",
      "Saved group 'Liverpool FC' to tean_specific_files/Liverpool FC.xlsx\n",
      "Saved group 'Manchester City FC' to tean_specific_files/Manchester City FC.xlsx\n",
      "Saved group 'Manchester United FC' to tean_specific_files/Manchester United FC.xlsx\n",
      "Saved group 'Southampton FC' to tean_specific_files/Southampton FC.xlsx\n",
      "Saved group 'Tottenham Hotspur FC' to tean_specific_files/Tottenham Hotspur FC.xlsx\n"
     ]
    },
    {
     "ename": "",
     "evalue": "",
     "output_type": "error",
     "traceback": [
      "\u001b[1;31mThe Kernel crashed while executing code in the current cell or a previous cell. \n",
      "\u001b[1;31mPlease review the code in the cell(s) to identify a possible cause of the failure. \n",
      "\u001b[1;31mClick <a href='https://aka.ms/vscodeJupyterKernelCrash'>here</a> for more info. \n",
      "\u001b[1;31mView Jupyter <a href='command:jupyter.viewOutput'>log</a> for further details."
     ]
    }
   ],
   "source": [
    "import pandas as pd\n",
    "import os\n",
    "import re\n",
    "\n",
    "# Load the Excel file\n",
    "file_path = '7-9_Through_10-13.xlsx'  # Replace with your file's path\n",
    "output_directory = 'tean_specific_files/'  # Replace with your desired output directory\n",
    "\n",
    "try:\n",
    "    # Read the Excel file\n",
    "    df = pd.read_excel(file_path)\n",
    "\n",
    "    # Ensure the 'group_name' column exists\n",
    "    if 'group_name' not in df.columns:\n",
    "        raise KeyError(\"'group_name' column not found in the Excel file\")\n",
    "\n",
    "    # Group by the 'group_name' column\n",
    "    grouped = df.groupby('group_name')\n",
    "\n",
    "    # Create output directory if it doesn't exist\n",
    "    os.makedirs(output_directory, exist_ok=True)\n",
    "\n",
    "    # Iterate over each group and save to a new Excel file\n",
    "    for group_name, group_data in grouped:\n",
    "        # Sanitize file name\n",
    "        safe_group_name = re.sub(r'[\\\\/*?:\"<>|]', '_', str(group_name))\n",
    "        output_file = f\"{output_directory}{safe_group_name}.xlsx\"\n",
    "        group_data.to_excel(output_file, index=False)\n",
    "        print(f\"Saved group '{group_name}' to {output_file}\")\n",
    "\n",
    "except FileNotFoundError:\n",
    "    print(f\"File not found: {file_path}\")\n",
    "except KeyError as e:\n",
    "    print(e)\n",
    "except Exception as e:\n",
    "    print(f\"An unexpected error occurred: {e}\")\n"
   ]
  },
  {
   "cell_type": "code",
   "execution_count": 1,
   "metadata": {},
   "outputs": [],
   "source": [
    "def make_classifiers(file_path):\n",
    "    # Open the file, read lines, and modify them\n",
    "    with open(file_path, 'r') as file:\n",
    "        lines = file.readlines()  # Read all lines\n",
    "\n",
    "    # Add 'CLASSIFIER:' to the start of each line\n",
    "    lines = [f'CLASSIFIER: {line}' for line in lines]\n",
    "\n",
    "    # Write the modified lines back to the same file\n",
    "    with open(file_path, 'w') as file:\n",
    "        file.writelines(lines)\n",
    "\n",
    "    print(f\"'CLASSIFIER:' has been added to each line in {file_path}.\")\n"
   ]
  },
  {
   "cell_type": "code",
   "execution_count": 3,
   "metadata": {},
   "outputs": [
    {
     "name": "stdout",
     "output_type": "stream",
     "text": [
      "'CLASSIFIER:' has been added to each line in nlpNegativeTerms.txt.\n",
      "'CLASSIFIER:' has been added to each line in nlpPositiveTerms.txt.\n"
     ]
    }
   ],
   "source": [
    "make_classifiers('nlpNegativeTerms.txt')\n",
    "make_classifiers('nlpPositiveTerms.txt')"
   ]
  }
 ],
 "metadata": {
  "kernelspec": {
   "display_name": "ECE661",
   "language": "python",
   "name": "python3"
  },
  "language_info": {
   "codemirror_mode": {
    "name": "ipython",
    "version": 3
   },
   "file_extension": ".py",
   "mimetype": "text/x-python",
   "name": "python",
   "nbconvert_exporter": "python",
   "pygments_lexer": "ipython3",
   "version": "3.9.20"
  }
 },
 "nbformat": 4,
 "nbformat_minor": 2
}
